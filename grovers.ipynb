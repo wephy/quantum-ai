{
 "cells": [
  {
   "cell_type": "code",
   "execution_count": 1,
   "metadata": {},
   "outputs": [],
   "source": [
    "import numpy as np\n",
    "from functools import cached_property"
   ]
  },
  {
   "cell_type": "code",
   "execution_count": 27,
   "metadata": {},
   "outputs": [],
   "source": [
    "class QuantumSystem:\n",
    "    def __init__(self, n_qubits):\n",
    "        self.n_qubits = n_qubits\n",
    "        self.uniform_superposition = self.normalise_system(np.array([complex(1, 0)] * 2**(self.n_qubits)))\n",
    "        self.register = self.uniform_superposition.copy()\n",
    "\n",
    "    def normalise_system(self, system):\n",
    "        return system / np.sqrt(np.sum(np.abs(system)**2))\n",
    "\n",
    "    def normalise(self):\n",
    "        self.register = self.normalise_system(self.register)\n",
    "\n",
    "class QuantumSearch(QuantumSystem):\n",
    "    def __init__(self, n_qubits, oracle):\n",
    "        self.n_qubits = n_qubits\n",
    "        self.oracle = oracle\n",
    "        QuantumSystem.__init__(self, self.n_qubits)\n",
    "\n",
    "    @cached_property\n",
    "    def oracle_operator(self):\n",
    "        a = np.eye(2**self.n_qubits)\n",
    "        mask = np.array([self.oracle(i) for i in range(2**self.n_qubits)])\n",
    "        a[mask] *= -1\n",
    "        return a\n",
    "\n",
    "    @cached_property\n",
    "    def diffusion_operator(self):\n",
    "        s = self.uniform_superposition.flatten()[np.newaxis].T\n",
    "        return 2 * np.matmul(s, s.T) - np.eye(2**self.n_qubits)\n",
    "    \n",
    "    def step(self):\n",
    "        self.register = np.multiply(np.diag(self.oracle_operator), self.register)\n",
    "        self.register = np.matmul(self.diffusion_operator, self.register)\n",
    "        self.normalise()\n",
    "        \n",
    "    def measurement(self):\n",
    "        return np.searchsorted(np.cumsum(np.abs(self.register)**2), np.random.random())"
   ]
  },
  {
   "cell_type": "code",
   "execution_count": 80,
   "metadata": {},
   "outputs": [
    {
     "name": "stdout",
     "output_type": "stream",
     "text": [
      "25\n",
      "16\n",
      "30\n",
      "16\n",
      "16\n",
      "16\n"
     ]
    }
   ],
   "source": [
    "def oracle(x):\n",
    "    return (x > 2) and (x & (x - 1) == 0) and (x & (x + 18) == 0)\n",
    "\n",
    "qsearch = QuantumSearch(n_qubits=5, oracle=oracle)\n",
    "\n",
    "iterations = np.ceil((np.pi / 4) * np.sqrt(qsearch.n_qubits)).astype(int)\n",
    "\n",
    "for i in range(6):\n",
    "    qsearch.step()\n",
    "    print(qsearch.measurement())\n"
   ]
  }
 ],
 "metadata": {
  "kernelspec": {
   "display_name": "Python 3",
   "language": "python",
   "name": "python3"
  },
  "language_info": {
   "codemirror_mode": {
    "name": "ipython",
    "version": 3
   },
   "file_extension": ".py",
   "mimetype": "text/x-python",
   "name": "python",
   "nbconvert_exporter": "python",
   "pygments_lexer": "ipython3",
   "version": "3.12.4"
  }
 },
 "nbformat": 4,
 "nbformat_minor": 2
}
