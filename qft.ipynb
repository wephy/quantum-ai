{
 "cells": [
  {
   "cell_type": "code",
   "execution_count": 37,
   "metadata": {},
   "outputs": [],
   "source": [
    "import numpy as np\n",
    "import numba as nb\n",
    "import pandas as pd\n",
    "import matplotlib.pyplot as plt\n",
    "import seaborn as sns\n",
    "from functools import cached_property\n",
    "import scienceplots\n",
    "from matplotlib.ticker import StrMethodFormatter, MaxNLocator\n",
    "\n",
    "plt.style.use([\"science\"])"
   ]
  },
  {
   "cell_type": "code",
   "execution_count": 137,
   "metadata": {},
   "outputs": [],
   "source": [
    "class QuantumSystem:\n",
    "    def __init__(self, n_qubits):\n",
    "        self.n_qubits = n_qubits\n",
    "        self.N = 2**n_qubits\n",
    "        self.uniform_superposition = self.normalise(np.array([complex(1, 0)] * 2**(self.n_qubits)))\n",
    "        self.register = self.uniform_superposition.copy()\n",
    "\n",
    "    def normalise(self, system):\n",
    "        return system / np.sqrt(np.sum(np.abs(system)**2))\n",
    "\n",
    "    def measurement(self):\n",
    "        return np.searchsorted(np.cumsum(np.abs(self.register)**2), np.random.random())\n",
    "\n",
    "\n",
    "class QFT(QuantumSystem):\n",
    "    def __init__(self, n_qubits):\n",
    "        self.n_qubits = n_qubits\n",
    "        QuantumSystem.__init__(self, self.n_qubits)\n",
    "\n",
    "    @cached_property\n",
    "    def qft_operator(self):\n",
    "        N = 2**(self.n_qubits)\n",
    "    \n",
    "        roots = np.zeros(N, dtype=complex)\n",
    "        for k in range(N):\n",
    "            roots[k] = np.exp(-(2 * k * np.pi * 1j) / N)\n",
    "        \n",
    "        s = np.zeros((N, N), dtype=complex)\n",
    "        for col in range(N):\n",
    "            s[:, col] = roots**col\n",
    "            \n",
    "        return s / np.sqrt(N)\n",
    "        \n",
    "    def step(self):\n",
    "        self.register = np.matmul(self.qft_operator, self.register)\n",
    "        \n",
    "    def inverse_step(self):\n",
    "        self.register = np.matmul(np.conj(self.qft_operator).T, self.register)"
   ]
  },
  {
   "cell_type": "markdown",
   "metadata": {},
   "source": [
    "## input"
   ]
  },
  {
   "cell_type": "code",
   "execution_count": 172,
   "metadata": {},
   "outputs": [
    {
     "data": {
      "image/png": "[encoded data removed]",
      "text/plain": [
       "<Figure size 800x600 with 3 Axes>"
      ]
     },
     "metadata": {},
     "output_type": "display_data"
    }
   ],
   "source": [
    "n_qubits = 6\n",
    "N = 2**n_qubits\n",
    "\n",
    "qft = QFT(n_qubits=n_qubits)\n",
    "xs = np.arange(0, N)\n",
    "\n",
    "ys = 2 * np.sin(2 * (2 * np.pi) * xs / (N - 1)) + np.sin(7 * (2 * np.pi) * xs / (N - 1))\n",
    "qft.register = qft.normalise(ys)\n",
    "\n",
    "fig, (ax1, ax2, ax3) = plt.subplots(3, 1, figsize=(8, 6))\n",
    "\n",
    "ax1.xaxis.set_major_formatter(lambda x, pos: f\"$\\\\mid${int(x):0{qft.n_qubits}b}$\\\\rangle$\")\n",
    "ax1.set_xlim(min(xs)-1, max(xs)+1)\n",
    "ax1.bar(xs, qft.register.real)\n",
    "ax1.set_title(\"Initial State\")\n",
    "\n",
    "ax2.xaxis.set_major_formatter(lambda x, pos: f\"$\\\\mid${int(x):0{qft.n_qubits}b}$\\\\rangle$\")\n",
    "ax2.set_xlim(min(xs)-1, max(xs)+1)\n",
    "qft.step()\n",
    "ax2.bar(xs, qft.normalise([abs(x) for x in qft.register]))\n",
    "ax2.set_title(r\"QFT $\\rightarrow$\")\n",
    "\n",
    "ax3.xaxis.set_major_formatter(lambda x, pos: f\"$\\\\mid${int(x):0{qft.n_qubits}b}$\\\\rangle$\")\n",
    "ax3.set_xlim(min(xs)-1, max(xs)+1)\n",
    "qft.inverse_step()\n",
    "ax3.bar(xs, qft.register.real)\n",
    "ax3.set_title(r\"IQFT $\\rightarrow$\")\n",
    "\n",
    "fig.tight_layout()"
   ]
  }
 ],
 "metadata": {
  "kernelspec": {
   "display_name": "Python 3",
   "language": "python",
   "name": "python3"
  },
  "language_info": {
   "codemirror_mode": {
    "name": "ipython",
    "version": 3
   },
   "file_extension": ".py",
   "mimetype": "text/x-python",
   "name": "python",
   "nbconvert_exporter": "python",
   "pygments_lexer": "ipython3",
   "version": "3.12.4"
  }
 },
 "nbformat": 4,
 "nbformat_minor": 2
}
