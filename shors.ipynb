{
 "cells": [
  {
   "cell_type": "code",
   "execution_count": 1,
   "metadata": {},
   "outputs": [],
   "source": [
    "import numpy as np\n",
    "import numba as nb\n",
    "import pandas as pd\n",
    "import matplotlib.pyplot as plt\n",
    "import seaborn as sns\n",
    "from functools import cached_property\n",
    "import scienceplots\n",
    "from matplotlib.ticker import StrMethodFormatter, MaxNLocator\n",
    "\n",
    "plt.style.use([\"science\"])"
   ]
  },
  {
   "cell_type": "code",
   "execution_count": 5,
   "metadata": {},
   "outputs": [],
   "source": [
    "class QuantumSystem:\n",
    "    def __init__(self, n_qubits):\n",
    "        self.n_qubits = n_qubits\n",
    "        self.N = 2**n_qubits\n",
    "        self.uniform_superposition = self.normalise(np.array([complex(1, 0)] * 2**(self.n_qubits)))\n",
    "        self.register = self.uniform_superposition.copy()\n",
    "\n",
    "    def normalise(self, system):\n",
    "        return system / np.sqrt(np.sum(np.abs(system)**2))\n",
    "\n",
    "class Shors(QuantumSystem):\n",
    "    def __init__(self, n_qubits):\n",
    "        self.n_qubits = n_qubits\n",
    "        QuantumSystem.__init__(self, self.n_qubits)\n",
    "        self.n = np.ceil(np.log2(self.N)).astype(int)\n",
    "\n",
    "    @cached_property\n",
    "    def oracle_operator(self):\n",
    "        pass\n",
    "\n",
    "    def step(self):\n",
    "        a = np.random.randint(2, self.N)\n",
    "        K = np.gcd(a, self.N)\n",
    "        if K != 1:\n",
    "            print(f\"Not prime! Factor found: {K}\")\n",
    "            return False\n",
    "        else:\n",
    "            pass\n",
    "    \n",
    "    def measurement(self):\n",
    "        return np.searchsorted(np.cumsum(np.abs(self.register)**2), np.random.random())"
   ]
  },
  {
   "cell_type": "code",
   "execution_count": null,
   "metadata": {},
   "outputs": [],
   "source": []
  }
 ],
 "metadata": {
  "kernelspec": {
   "display_name": "Python 3",
   "language": "python",
   "name": "python3"
  },
  "language_info": {
   "codemirror_mode": {
    "name": "ipython",
    "version": 3
   },
   "file_extension": ".py",
   "mimetype": "text/x-python",
   "name": "python",
   "nbconvert_exporter": "python",
   "pygments_lexer": "ipython3",
   "version": "3.12.4"
  }
 },
 "nbformat": 4,
 "nbformat_minor": 2
}
