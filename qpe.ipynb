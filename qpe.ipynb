{
 "cells": [
  {
   "cell_type": "code",
   "execution_count": 166,
   "metadata": {},
   "outputs": [],
   "source": [
    "import numpy as np\n",
    "import numba as nb\n",
    "import pandas as pd\n",
    "import matplotlib.pyplot as plt\n",
    "import seaborn as sns\n",
    "from functools import cached_property\n",
    "import scienceplots\n",
    "from matplotlib.ticker import StrMethodFormatter, MaxNLocator\n",
    "\n",
    "plt.style.use([\"science\"])"
   ]
  },
  {
   "cell_type": "code",
   "execution_count": 232,
   "metadata": {},
   "outputs": [],
   "source": [
    "class QuantumSystem:\n",
    "    def __init__(self, n_qubits):\n",
    "        self.n_qubits = n_qubits\n",
    "        self.N = 2**n_qubits\n",
    "        self.uniform_superposition = self.normalise(np.array([complex(1, 0)] * 2**(self.n_qubits)))\n",
    "        self.register = self.uniform_superposition.copy()\n",
    "\n",
    "    def normalise(self, system):\n",
    "        return system / np.sqrt(np.sum(np.abs(system)**2))\n",
    "\n",
    "    def measurement(self):\n",
    "        return np.searchsorted(np.cumsum(np.abs(self.register)**2), np.random.random())\n",
    "\n",
    "\n",
    "class QFT(QuantumSystem):\n",
    "    def __init__(self, n_qubits):\n",
    "        QuantumSystem.__init__(self, n_qubits)\n",
    "\n",
    "    @cached_property\n",
    "    def qft_operator(self):\n",
    "        roots = np.zeros(self.N, dtype=complex)\n",
    "        for k in range(self.N):\n",
    "            roots[k] = np.exp(-(2 * k * np.pi * 1j) / self.N)\n",
    "        \n",
    "        s = np.zeros((self.N, self.N), dtype=complex)\n",
    "        for col in range(self.N):\n",
    "            s[:, col] = roots**col\n",
    "            \n",
    "        return s / np.sqrt(self.N)\n",
    "    \n",
    "    def QFT(self):\n",
    "        self.register = np.matmul(self.qft_operator, self.register)\n",
    "\n",
    "    def IQFT(self):\n",
    "        self.register = np.matmul(np.conj(self.qft_operator).T, self.register)\n",
    "\n",
    "\n",
    "class QPE(QFT):\n",
    "    def __init__(self, n_qubits, theta):\n",
    "        self.theta = theta\n",
    "        QFT.__init__(self, n_qubits)\n",
    "\n",
    "    def ints_with_bit_set(self, bit_position):\n",
    "        result = []\n",
    "        for i in range(2**(self.n_qubits)):\n",
    "            if i & (1 << bit_position):\n",
    "                result.append(i)\n",
    "        return result\n",
    "\n",
    "    def controlledU(self):\n",
    "        for control_bit in range(self.n_qubits):\n",
    "            for i in self.ints_with_bit_set(control_bit):\n",
    "                self.register[-i] *= np.exp(self.theta * 2 * np.pi * 1j * 2**control_bit)"
   ]
  },
  {
   "cell_type": "code",
   "execution_count": 318,
   "metadata": {},
   "outputs": [
    {
     "name": "stdout",
     "output_type": "stream",
     "text": [
      "most likely to collapse to: 0011 \n",
      "estimate phase: 0.1875 \n",
      "true phase: 0.2\n"
     ]
    },
    {
     "data": {
      "image/png": "[encoded data removed]",
      "text/plain": [
       "<Figure size 800x600 with 1 Axes>"
      ]
     },
     "metadata": {},
     "output_type": "display_data"
    }
   ],
   "source": [
    "phase = 0.2\n",
    "qpe = QPE(4, phase)\n",
    "qpe.controlledU()\n",
    "qpe.IQFT()\n",
    "\n",
    "state = f\"{int(np.argmax(qpe.normalise([abs(x) for x in qpe.register]))):0{qpe.n_qubits}b}\"\n",
    "estimate = 0\n",
    "for i, bit in enumerate(state):\n",
    "    estimate += 2**(-i-1) * int(bit)\n",
    "\n",
    "xs = np.arange(0, qpe.N)\n",
    "fig, ax = plt.subplots(1, 1, figsize=(8, 6))\n",
    "ax.xaxis.set_major_formatter(lambda x, _: f\"$\\\\mid${int(x):0{qpe.n_qubits}b}$\\\\rangle$\")\n",
    "ax.set_xlim(min(xs)-1, max(xs)+1)\n",
    "ax.bar(xs, qpe.normalise([abs(x) for x in qpe.register])**2)\n",
    "ax.set_title(r\"Phase Estimation\")\n",
    "\n",
    "print(\"most likely to collapse to:\", state, \"\\nestimate phase:\", estimate, \"\\ntrue phase:\", phase)\n"
   ]
  }
 ],
 "metadata": {
  "kernelspec": {
   "display_name": "Python 3",
   "language": "python",
   "name": "python3"
  },
  "language_info": {
   "codemirror_mode": {
    "name": "ipython",
    "version": 3
   },
   "file_extension": ".py",
   "mimetype": "text/x-python",
   "name": "python",
   "nbconvert_exporter": "python",
   "pygments_lexer": "ipython3",
   "version": "3.12.4"
  }
 },
 "nbformat": 4,
 "nbformat_minor": 2
}
